{
  "nbformat": 4,
  "nbformat_minor": 0,
  "metadata": {
    "colab": {
      "name": "tugas minggu 12.ipynb",
      "provenance": [],
      "authorship_tag": "ABX9TyMymq3vmJgqNq7DKA//d1Gb",
      "include_colab_link": true
    },
    "kernelspec": {
      "name": "python3",
      "display_name": "Python 3"
    }
  },
  "cells": [
    {
      "cell_type": "markdown",
      "metadata": {
        "id": "view-in-github",
        "colab_type": "text"
      },
      "source": [
        "<a href=\"https://colab.research.google.com/github/athaliqa/tugas-minggu-12-python/blob/main/tugas_minggu_12.ipynb\" target=\"_parent\"><img src=\"https://colab.research.google.com/assets/colab-badge.svg\" alt=\"Open In Colab\"/></a>"
      ]
    },
    {
      "cell_type": "code",
      "metadata": {
        "id": "zTQTQ9F2PPrl"
      },
      "source": [
        "import numpy as np"
      ],
      "execution_count": 1,
      "outputs": []
    },
    {
      "cell_type": "code",
      "metadata": {
        "id": "b1nhByLpPkDG"
      },
      "source": [
        "rumus1 = lambda x: (1.1*np.log(x)-0.7)*5"
      ],
      "execution_count": 2,
      "outputs": []
    },
    {
      "cell_type": "code",
      "metadata": {
        "id": "5Q9xGoiuW_hQ",
        "colab": {
          "base_uri": "https://localhost:8080/"
        },
        "outputId": "1051b609-4e6f-406c-a70e-79921c76ae47"
      },
      "source": [
        "z = rumus1(200)\r\n",
        "print(z)"
      ],
      "execution_count": 4,
      "outputs": [
        {
          "output_type": "stream",
          "text": [
            "25.640745516014203\n"
          ],
          "name": "stdout"
        }
      ]
    },
    {
      "cell_type": "code",
      "metadata": {
        "id": "Zpz-rZhRPn8R"
      },
      "source": [
        "rumus2 = lambda x: (1.56*np.log(x) - 0.8)"
      ],
      "execution_count": 3,
      "outputs": []
    },
    {
      "cell_type": "code",
      "metadata": {
        "id": "OiPWJSQPPpqq",
        "colab": {
          "base_uri": "https://localhost:8080/"
        },
        "outputId": "44753256-1716-45bf-8032-6220a5658ec5"
      },
      "source": [
        "y=rumus2(200)\r\n",
        "print(y)"
      ],
      "execution_count": 5,
      "outputs": [
        {
          "output_type": "stream",
          "text": [
            "7.465375091814937\n"
          ],
          "name": "stdout"
        }
      ]
    },
    {
      "cell_type": "code",
      "metadata": {
        "id": "zbZiW3D7PVfC"
      },
      "source": [
        "#𝐿𝑃 = 𝐶1 + 𝐶2 log 𝑓𝐶 − 13,83 log ℎ𝑇 − 𝑎(ℎ𝑅) + [44,9 − 6,55 log ℎ𝑇]log 𝑑 + 𝐶𝑚\r\n",
        "#misal \r\n",
        "#fc = 200 MHz\r\n",
        "#C1 = 69,55 ; 400 𝑀𝐻𝑧 < 𝑓𝐶 < 1500 𝑀𝐻z\r\n",
        "#C2 = 26,16 ; 400 𝑀𝐻𝑧 < 𝑓𝐶 < 1500 𝑀𝐻z\r\n",
        "#hT = 30 meter\r\n",
        "#hR = 5 meter\r\n",
        "#d = 2 km\r\n",
        "#Cm = 0, Daerah Urban\r\n",
        "#𝑎(ℎ𝑅) = {1,1 log(𝑓𝐶) − 0,7}hR − {1,56 log(𝑓𝐶) − 0,8}\r\n"
      ],
      "execution_count": 4,
      "outputs": []
    },
    {
      "cell_type": "code",
      "metadata": {
        "colab": {
          "base_uri": "https://localhost:8080/"
        },
        "id": "6iSSm6GIeogc",
        "outputId": "427583f7-bafd-46a5-ae40-c59e278e4f78"
      },
      "source": [
        "a = (1.1*np.log(200)-0.7)*5-(1.56*np.log(200)-0.8)\r\n",
        "print(a)"
      ],
      "execution_count": 4,
      "outputs": [
        {
          "output_type": "stream",
          "text": [
            "18.175370424199265\n"
          ],
          "name": "stdout"
        }
      ]
    },
    {
      "cell_type": "code",
      "metadata": {
        "id": "uMYTXz9VPZKx",
        "colab": {
          "base_uri": "https://localhost:8080/"
        },
        "outputId": "15df1ba2-c762-4fb1-f2c3-b08a886027c6"
      },
      "source": [
        "LP = 69.55+26.26*np.log(200)-13.83*np.log(30)-18.175370424199265+(44.9-6.55*np.log(30))*np.log(2000)+0\r\n",
        "print(LP)"
      ],
      "execution_count": 5,
      "outputs": [
        {
          "output_type": "stream",
          "text": [
            "315.4186937554051\n"
          ],
          "name": "stdout"
        }
      ]
    }
  ]
}